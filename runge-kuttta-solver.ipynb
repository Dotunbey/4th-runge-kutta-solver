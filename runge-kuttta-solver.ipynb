{
  "cells": [
    {
      "cell_type": "code",
      "execution_count": 10,
      "id": "81a7a36a-b0ac-4519-acaf-768a0e70b225",
      "metadata": {
        "id": "81a7a36a-b0ac-4519-acaf-768a0e70b225"
      },
      "outputs": [],
      "source": [
        "import sympy as sp\n",
        "import numpy as np\n",
        "import matplotlib.pyplot as plt\n",
        "\n",
        "def reduce_to_first_order(f_expr, order):\n",
        "    \"\"\"\n",
        "    Reduces an nth-order ODE to a system of first-order ODEs.\n",
        "\n",
        "    Parameters:\n",
        "        f_expr : sympy expression for the nth-order ODE\n",
        "        order  : the order of the ODE (e.g., 2 for y'')\n",
        "\n",
        "    Returns:\n",
        "        f_func  : a function representing the system of first-order ODEs\n",
        "        Y_symbols : list of first-order variables [y, y', ..., y^(n-1)]\n",
        "    \"\"\"\n",
        "    # Create symbols Y0, Y1, ..., Y_{order-1} representing y, y', ..., y^(n-1)\n",
        "    Y_symbols = sp.symbols(' '.join([f'Y{i}' for i in range(order)]), seq=True)\n",
        "\n",
        "    # Build a substitution map: y(x)->Y0, y'(x)->Y1, ..., y^(n-1)(x)->Y_{n-1}\n",
        "    subs_map = {sp.Function('y')(x): Y_symbols[0]}\n",
        "    for i in range(1, order):\n",
        "        subs_map[sp.Derivative(sp.Function('y')(x), x, i)] = Y_symbols[i]\n",
        "\n",
        "    # Substitute into the ODE to express the highest derivative in terms of Y_symbols\n",
        "    f_sub = f_expr.subs(subs_map)\n",
        "\n",
        "    # Lambdify to generate the function for numerical evaluation\n",
        "    f_func = sp.lambdify((x,) + Y_symbols, f_sub, 'numpy')\n",
        "\n",
        "    return f_func, Y_symbols\n",
        "\n",
        "def f_system(x_val, y_vals, order, f_func):\n",
        "    \"\"\"\n",
        "    Return the derivatives [y0', y1', ..., y_{n-1}'] for the system of first-order ODEs.\n",
        "\n",
        "    Parameters:\n",
        "        x_val : current x value\n",
        "        y_vals : list of current values [y0, y1, ..., y_{n-1}]\n",
        "        order : the order of the ODE\n",
        "        f_func : the lambda function for the system of ODEs\n",
        "\n",
        "    Returns:\n",
        "        derivs : array of derivatives [y0', y1', ..., y_{n-1}']\n",
        "    \"\"\"\n",
        "    derivs = np.zeros(order)\n",
        "\n",
        "    # y0' = y1, y1' = y2, ..., y_{n-2}' = y_{n-1}\n",
        "    for i in range(order-1):\n",
        "        derivs[i] = y_vals[i+1]\n",
        "\n",
        "    # Last equation: y_{n-1}' = f(x, y0, ..., y_{n-1})\n",
        "    derivs[order-1] = f_func(x_val, *y_vals)\n",
        "\n",
        "    return derivs\n",
        "\n",
        "def runge_kutta(f_func, order, x0, initial_conditions, h, x_end):\n",
        "    \"\"\"\n",
        "    Solve the system of first-order ODEs using the 4th-order Runge-Kutta method.\n",
        "\n",
        "    Parameters:\n",
        "        f_func : function that returns the system of derivatives\n",
        "        order : the order of the ODE (e.g., 2 for y'')\n",
        "        x0 : initial x value\n",
        "        initial_conditions : initial values for y(0), y'(0), ..., y^(n-1)(0)\n",
        "        h : step size\n",
        "        x_end : end value of x\n",
        "\n",
        "    Returns:\n",
        "        xs : array of x values\n",
        "        ys : array of solution values for each step\n",
        "    \"\"\"\n",
        "    N_steps = int((x_end - x0) / h)  # number of RK4 steps\n",
        "    xs = np.zeros(N_steps + 1)\n",
        "    ys = np.zeros((order, N_steps + 1))\n",
        "\n",
        "    xs[0] = x0\n",
        "    ys[:, 0] = initial_conditions\n",
        "\n",
        "    # RK4 loop\n",
        "    for i in range(N_steps):\n",
        "        x_curr = xs[i]\n",
        "        y_curr = ys[:, i]\n",
        "\n",
        "        # Compute RK4 slopes k1..k4 using the system function\n",
        "        k1 = f_system(x_curr, y_curr, order, f_func)\n",
        "        k2 = f_system(x_curr + 0.5*h, y_curr + 0.5*h*k1, order, f_func)\n",
        "        k3 = f_system(x_curr + 0.5*h, y_curr + 0.5*h*k2, order, f_func)\n",
        "        k4 = f_system(x_curr + h,     y_curr + h*k3, order, f_func)\n",
        "\n",
        "        # Update solution for next step\n",
        "        ys[:, i+1] = y_curr + (h/6.0)*(k1 + 2*k2 + 2*k3 + k4)\n",
        "        xs[i+1] = x_curr + h\n",
        "\n",
        "    return xs, ys"
      ]
    },
    {
      "cell_type": "code",
      "execution_count": null,
      "id": "ad6b69b2-a83d-4556-adbb-75bdf0c69f0e",
      "metadata": {
        "id": "ad6b69b2-a83d-4556-adbb-75bdf0c69f0e",
        "outputId": "f923f0ad-4de3-439e-cfa1-26f9d386cc39"
      },
      "outputs": [
        {
          "data": {
            "text/plain": [
              "(array([0. , 0.1, 0.2, 0.3, 0.4, 0.5, 0.6, 0.7, 0.8, 0.9, 1. ]),\n",
              " array([[0.        , 0.09983333, 0.19866917, 0.29551996, 0.38941803,\n",
              "         0.47942516, 0.56464204, 0.64421721, 0.71735559, 0.7833264 ,\n",
              "         0.84147048],\n",
              "        [1.        , 0.99500417, 0.9800666 , 0.95533654, 0.9210611 ,\n",
              "         0.87758273, 0.82533586, 0.76484252, 0.69670715, 0.62161051,\n",
              "         0.54030297]]))"
            ]
          },
          "execution_count": 47,
          "metadata": {},
          "output_type": "execute_result"
        }
      ],
      "source": [
        "# --- Example usage for a 2nd, 3rd, or 4th order ODE ---\n",
        "\n",
        "# Define the symbolic independent variable and function\n",
        "x = sp.symbols('x')\n",
        "y = sp.Function('y')\n",
        "\n",
        "# Example ODE: y'' = -y (simple harmonic oscillator)\n",
        "order = 2  # Choose order: 2 for y'', 3 for y''', 4 for y'''' etc.\n",
        "\n",
        "# Define the ODE (e.g., y'' = -y)\n",
        "if order == 2:\n",
        "    f_expr = -y(x)  # y'' = -y\n",
        "elif order == 3:\n",
        "    f_expr = -y(x) - y(x).diff(x)  # y''' = -y - y'\n",
        "elif order == 4:\n",
        "    f_expr = -y(x) - y(x).diff(x, 2)  # y'''' = -y - y''\n",
        "else:\n",
        "    raise ValueError(\"Order not supported. Use 2, 3, or 4.\")\n",
        "\n",
        "# Initial conditions: [y(0), y'(0), y''(0), y'''(0)] for respective orders\n",
        "initial_conditions = [0.0, 1.0] if order == 2 else [0.0, 1.0, 0.0] if order == 3 else [0.0, 1.0, 0.0, 0.0]\n",
        "\n",
        "# Reduce the ODE to a system of first-order ODEs\n",
        "f_func, Y_symbols = reduce_to_first_order(f_expr, order)\n",
        "\n",
        "# Integration parameters\n",
        "x0 = 0.0  # initial x value\n",
        "h = 0.1   # step size\n",
        "x_end = 1.0  # end x value\n",
        "\n",
        "# Solve the system\n",
        "runge_kutta(f_func, order, x0, initial_conditions, h, x_end)"
      ]
    },
    {
      "cell_type": "code",
      "execution_count": null,
      "id": "1b77cd13-aa9a-4279-ab11-89eb12ea9089",
      "metadata": {
        "id": "1b77cd13-aa9a-4279-ab11-89eb12ea9089",
        "outputId": "836d3558-c669-485e-e686-4b39d67295bc"
      },
      "outputs": [
        {
          "data": {
            "image/png": "[encoded data removed]",
            "text/plain": [
              "<Figure size 640x480 with 1 Axes>"
            ]
          },
          "metadata": {},
          "output_type": "display_data"
        }
      ],
      "source": [
        "xs, ys = runge_kutta(f_func, order, x0, initial_conditions, h, x_end)\n",
        "\n",
        "# --- Plot the solution ---\n",
        "plt.plot(xs, ys[0], label=f'y(x) (order {order})')  # Plot y(x) for order 2, 3, or 4\n",
        "plt.xlabel('x')\n",
        "plt.ylabel('y')\n",
        "plt.title(f'Solution of {order}-order ODE via RK4')\n",
        "plt.legend()\n",
        "plt.grid(True)\n",
        "plt.show()"
      ]
    },
    {
      "cell_type": "code",
      "execution_count": null,
      "id": "c6cd2490-fb33-46ee-b331-cac692455049",
      "metadata": {
        "id": "c6cd2490-fb33-46ee-b331-cac692455049"
      },
      "outputs": [],
      "source": [
        "def estimate_rk4_error(f_func, order, x0, y0, h, x_end):\n",
        "    \"\"\"\n",
        "    Estimate the global error for any order IVP using RK4 and Richardson Extrapolation.\n",
        "\n",
        "    Parameters:\n",
        "        f_func: RHS function from reduced first-order system.\n",
        "        order: Order of the original ODE (int).\n",
        "        x0: Initial value of x.\n",
        "        y0: List of initial values [y, y', ..., y^{n-1}].\n",
        "        h: Step size.\n",
        "        x_end: Final x value.\n",
        "\n",
        "    Returns:\n",
        "        xs: x-values grid\n",
        "        y0_values: Solution for the primary function y(x)\n",
        "        error_estimates: Estimated global error for y(x)\n",
        "    \"\"\"\n",
        "    # Get RK4 solution with step size h\n",
        "    xs_h, ys_h = runge_kutta(f_func, order, x0, y0, h, x_end)\n",
        "\n",
        "    # Get RK4 solution with step size h/2 (more accurate)\n",
        "    xs_h2, ys_h2 = runge_kutta(f_func, order, x0, y0, h/2, x_end)\n",
        "\n",
        "    # Align both solutions: pick every second point from h/2 solution\n",
        "    aligned_ys_h2 = ys_h2[:, ::2]  # Matches same x-grid as xs_h\n",
        "\n",
        "    # Estimate error using only the y0 component (the function itself, not derivatives)\n",
        "    y0_h = ys_h[0]         # y at step h\n",
        "    y0_h2 = aligned_ys_h2[0]  # y at step h/2 (downsampled)\n",
        "\n",
        "    # Richardson extrapolation formula for RK4: error ≈ (y_h2 - y_h) / (2^4 - 1)\n",
        "    error = np.abs(y0_h2 - y0_h) / 15.0\n",
        "\n",
        "    return xs_h, y0_h, error\n"
      ]
    },
    {
      "cell_type": "code",
      "execution_count": null,
      "id": "e917c04b-75bd-40a6-8db4-e736385e3a23",
      "metadata": {
        "id": "e917c04b-75bd-40a6-8db4-e736385e3a23",
        "outputId": "e8bbb2f4-9527-4038-8eb5-b9fa344dc193"
      },
      "outputs": [
        {
          "name": "stdout",
          "output_type": "stream",
          "text": [
            "x = 0.00, y ≈ 0.000000, error ≈ 0.00e+00\n",
            "x = 0.10, y ≈ 0.099833, error ≈ 5.21e-09\n",
            "x = 0.20, y ≈ 0.198669, error ≈ 1.03e-08\n",
            "x = 0.30, y ≈ 0.295520, error ≈ 1.53e-08\n",
            "x = 0.40, y ≈ 0.389418, error ≈ 1.98e-08\n",
            "x = 0.50, y ≈ 0.479425, error ≈ 2.38e-08\n",
            "x = 0.60, y ≈ 0.564642, error ≈ 2.72e-08\n",
            "x = 0.70, y ≈ 0.644217, error ≈ 2.98e-08\n",
            "x = 0.80, y ≈ 0.717356, error ≈ 3.15e-08\n",
            "x = 0.90, y ≈ 0.783326, error ≈ 3.22e-08\n",
            "x = 1.00, y ≈ 0.841470, error ≈ 3.18e-08\n"
          ]
        }
      ],
      "source": [
        "xs, y_vals, error = estimate_rk4_error(f_func, order, x0, initial_conditions, h, x_end)\n",
        "\n",
        "# Print result\n",
        "for xi, yi, ei in zip(xs, y_vals, error):\n",
        "    print(f\"x = {xi:.2f}, y ≈ {yi:.6f}, error ≈ {ei:.2e}\")"
      ]
    },
    {
      "cell_type": "code",
      "source": [
        "import sympy as sp\n",
        "import numpy as np\n",
        "import matplotlib.pyplot as plt\n",
        "\n",
        "def solve_ode_particular(f_expr, order, y_var='y', x_var='x', initial_conditions=None):\n",
        "    \"\"\"\n",
        "    Solves the particular solution of an ODE as a SymPy expression.\n",
        "\n",
        "    Parameters:\n",
        "        f_epr_expr: SymPy expression for the highest-order derivative, e.g., -y(x) for y'' = -y\n",
        "        order (int): The order of the ODE (e.g., 2 for y'')\n",
        "        y_var (str): The dependent variable (default: 'y')\n",
        "        x_var (str): The independent variable (default: 'x')\n",
        "        initial_conditions (list): Initial conditions [y(0), y'(0), ..., y^(n-1)(0)]\n",
        "\n",
        "    Returns:\n",
        "        SymPy expression for the particular solution.\n",
        "    \"\"\"\n",
        "    x = sp.symbols(x_var)\n",
        "    y = sp.Function(y_var)(x)\n",
        "\n",
        "    # Form the ODE: highest-order derivative = f_epr_expr\n",
        "    eq = sp.Eq(y.diff(x, order), f_epr)\n",
        "\n",
        "    # Solve the ODE\n",
        "    if initial_conditions:\n",
        "        if len(initial_conditions) != order:\n",
        "            raise ValueError(f\"Initial conditions must be a list of length {order}.\")\n",
        "        # Convert list to SymPy initial conditions: y(0)=..., y'(0)=..., etc.\n",
        "        ics = {y.subs(x, 0): initial_conditions[0]}\n",
        "        for i in range(1, order):\n",
        "            ics[y.diff(x, i).subs(x, 0)] = initial_conditions[i]\n",
        "        sol = sp.dsolve(eq, y, ics=ics)\n",
        "    else:\n",
        "        sol = sp.dsolve(eq, y)\n",
        "\n",
        "    return sol"
      ],
      "metadata": {
        "id": "XyUjImZfxgfe"
      },
      "id": "XyUjImZfxgfe",
      "execution_count": 4,
      "outputs": []
    },
    {
      "cell_type": "code",
      "source": [
        "x = sp.symbols('x')\n",
        "y = sp.Function('y')\n",
        "\n",
        "# Example ODE: choose one based on order\n",
        "order = 2\n",
        "f_epr = -y(x) - y(x).diff(x)\n",
        "initial_conditions = [0.0, 1.0]\n",
        "\n",
        "# Get the analytical particular solution\n",
        "sol = solve_ode_particular(f_epr, order, initial_conditions=initial_conditions)\n",
        "print(\"Particular Solution:\", sol)"
      ],
      "metadata": {
        "colab": {
          "base_uri": "https://localhost:8080/"
        },
        "id": "3l7ViUEZzDUK",
        "outputId": "6876410c-d8ac-422e-cdd9-0390de306f13"
      },
      "id": "3l7ViUEZzDUK",
      "execution_count": 9,
      "outputs": [
        {
          "output_type": "stream",
          "name": "stdout",
          "text": [
            "Particular Solution: Eq(y(x), 1.15470053837925*exp(-x/2)*sin(sqrt(3)*x/2))\n"
          ]
        }
      ]
    },
    {
      "cell_type": "code",
      "source": [
        "x0 = 0.0  # initial x value\n",
        "h = 0.1   # step size\n",
        "x_end = 10.0  # end x value\n",
        "\n",
        "# Reduce the ODE to a system of first-order ODEs\n",
        "f_func, Y_symbols = reduce_to_first_order(f_epr, order)\n",
        "\n",
        "# Solve the system numerically\n",
        "runge_kutta(f_func, order, x0, initial_conditions, h, x_end)"
      ],
      "metadata": {
        "id": "LxELWeZ31XDk",
        "outputId": "bdca1909-3598-44d0-8ba2-7a3f8a1ca07a",
        "colab": {
          "base_uri": "https://localhost:8080/"
        }
      },
      "id": "LxELWeZ31XDk",
      "execution_count": 11,
      "outputs": [
        {
          "output_type": "execute_result",
          "data": {
            "text/plain": [
              "(array([ 0. ,  0.1,  0.2,  0.3,  0.4,  0.5,  0.6,  0.7,  0.8,  0.9,  1. ,\n",
              "         1.1,  1.2,  1.3,  1.4,  1.5,  1.6,  1.7,  1.8,  1.9,  2. ,  2.1,\n",
              "         2.2,  2.3,  2.4,  2.5,  2.6,  2.7,  2.8,  2.9,  3. ,  3.1,  3.2,\n",
              "         3.3,  3.4,  3.5,  3.6,  3.7,  3.8,  3.9,  4. ,  4.1,  4.2,  4.3,\n",
              "         4.4,  4.5,  4.6,  4.7,  4.8,  4.9,  5. ,  5.1,  5.2,  5.3,  5.4,\n",
              "         5.5,  5.6,  5.7,  5.8,  5.9,  6. ,  6.1,  6.2,  6.3,  6.4,  6.5,\n",
              "         6.6,  6.7,  6.8,  6.9,  7. ,  7.1,  7.2,  7.3,  7.4,  7.5,  7.6,\n",
              "         7.7,  7.8,  7.9,  8. ,  8.1,  8.2,  8.3,  8.4,  8.5,  8.6,  8.7,\n",
              "         8.8,  8.9,  9. ,  9.1,  9.2,  9.3,  9.4,  9.5,  9.6,  9.7,  9.8,\n",
              "         9.9, 10. ]),\n",
              " array([[ 0.00000000e+00,  9.50041667e-02,  1.80064168e-01,\n",
              "          2.55317536e-01,  3.20981961e-01,  3.77345589e-01,\n",
              "          4.24757584e-01,  4.63618996e-01,  4.94374012e-01,\n",
              "          5.17501628e-01,  5.33507781e-01,  5.42917976e-01,\n",
              "          5.46270425e-01,  5.44109721e-01,  5.36981056e-01,\n",
              "          5.25424974e-01,  5.09972678e-01,  4.91141868e-01,\n",
              "          4.69433101e-01,  4.45326665e-01,  4.19279940e-01,\n",
              "          3.91725231e-01,  3.63068040e-01,  3.33685765e-01,\n",
              "          3.03926782e-01,  2.74109900e-01,  2.44524136e-01,\n",
              "          2.15428809e-01,  1.87053896e-01,  1.59600638e-01,\n",
              "          1.33242363e-01,  1.08125494e-01,  8.43707152e-02,\n",
              "          6.20742747e-02,  4.13093959e-02,  2.21277709e-02,\n",
              "          4.56111886e-03, -1.13772154e-02, -2.56906397e-02,\n",
              "         -3.83976875e-02, -4.95304026e-02, -5.91327490e-02,\n",
              "         -6.72590578e-02, -7.39725249e-02, -7.93437658e-02,\n",
              "         -8.34494386e-02, -8.63709397e-02, -8.81931792e-02,\n",
              "         -8.90034392e-02, -8.88903179e-02, -8.79427622e-02,\n",
              "         -8.62491886e-02, -8.38966931e-02, -8.09703487e-02,\n",
              "         -7.75525890e-02, -7.37226754e-02, -6.95562458e-02,\n",
              "         -6.51249395e-02, -6.04960974e-02, -5.57325300e-02,\n",
              "         -5.08923517e-02, -4.60288751e-02, -4.11905609e-02,\n",
              "         -3.64210189e-02, -3.17590550e-02, -2.72387593e-02,\n",
              "         -2.28896308e-02, -1.87367339e-02, -1.48008818e-02,\n",
              "         -1.10988434e-02, -7.64356856e-03, -4.44442869e-03,\n",
              "         -1.50746781e-03,  1.16433807e-03,  3.57081732e-03,\n",
              "          5.71433745e-03,  7.59954100e-03,  9.23308487e-03,\n",
              "          1.06233853e-02,  1.17803706e-02,  1.27152424e-02,\n",
              "          1.34402487e-02,  1.39684672e-02,  1.43136021e-02,\n",
              "          1.44897945e-02,  1.45114461e-02,  1.43930576e-02,\n",
              "          1.41490811e-02,  1.37937878e-02,  1.33411490e-02,\n",
              "          1.28047323e-02,  1.21976106e-02,  1.15322851e-02,\n",
              "          1.08206208e-02,  1.00737941e-02,  9.30225217e-03,\n",
              "          8.51568315e-03,  7.72299600e-03,  6.93231006e-03,\n",
              "          6.15095301e-03,  5.38546650e-03],\n",
              "        [ 1.00000000e+00,  9.00162500e-01,  8.01266735e-01,\n",
              "          7.04163421e-01,  6.09605276e-01,  5.18249185e-01,\n",
              "          4.30659079e-01,  3.47309413e-01,  2.68589173e-01,\n",
              "          1.94806310e-01,  1.26192524e-01,  6.29083161e-02,\n",
              "          5.04823721e-03, -4.73537327e-02, -9.43187450e-02,\n",
              "         -1.35917635e-01, -1.72265520e-01, -2.03516490e-01,\n",
              "         -2.29858437e-01, -2.51508045e-01, -2.68706000e-01,\n",
              "         -2.81712406e-01, -2.90802473e-01, -2.96262457e-01,\n",
              "         -2.98385892e-01, -2.97470101e-01, -2.93813013e-01,\n",
              "         -2.87710268e-01, -2.79452629e-01, -2.69323676e-01,\n",
              "         -2.57597799e-01, -2.44538459e-01, -2.30396723e-01,\n",
              "         -2.15410059e-01, -1.99801372e-01, -1.83778268e-01,\n",
              "         -1.67532535e-01, -1.51239831e-01, -1.35059542e-01,\n",
              "         -1.19134817e-01, -1.03592754e-01, -8.85447180e-02,\n",
              "         -7.40867771e-02, -6.03002478e-02, -4.72523237e-02,\n",
              "         -3.49967815e-02, -2.35747460e-02, -1.30155031e-02,\n",
              "         -3.33734831e-03,  5.45154177e-03,  1.33522241e-02,\n",
              "          2.03741002e-02,  2.65340333e-02,  3.18554772e-02,\n",
              "          3.63676265e-02,  4.01045926e-02,  4.31046117e-02,\n",
              "          4.54092882e-02,  4.70628790e-02,  4.81116201e-02,\n",
              "          4.86030988e-02,  4.85856724e-02,  4.81079353e-02,\n",
              "          4.72182342e-02,  4.59642323e-02,  4.43925208e-02,\n",
              "          4.25482781e-02,  4.04749747e-02,  3.82141222e-02,\n",
              "          3.58050652e-02,  3.32848134e-02,  3.06879117e-02,\n",
              "          2.80463466e-02,  2.53894852e-02,  2.27440455e-02,\n",
              "          2.01340943e-02,  1.75810708e-02,  1.51038326e-02,\n",
              "          1.27187222e-02,  1.04396509e-02,  8.27819794e-03,\n",
              "          6.24372234e-03,  4.34348508e-03,  2.58277981e-03,\n",
              "          9.65069689e-04, -5.07871309e-04, -1.83581456e-03,\n",
              "         -3.01993186e-03, -4.06265108e-03, -4.96751346e-03,\n",
              "         -5.73903409e-03, -6.38256619e-03, -6.90417058e-03,\n",
              "         -7.31049059e-03, -7.60863354e-03, -7.80605900e-03,\n",
              "         -7.91047430e-03, -7.92973771e-03, -7.87176932e-03,\n",
              "         -7.74446989e-03, -7.55564754e-03]]))"
            ]
          },
          "metadata": {},
          "execution_count": 11
        }
      ]
    }
  ],
  "metadata": {
    "kernelspec": {
      "display_name": "Python 3 (ipykernel)",
      "language": "python",
      "name": "python3"
    },
    "language_info": {
      "codemirror_mode": {
        "name": "ipython",
        "version": 3
      },
      "file_extension": ".py",
      "mimetype": "text/x-python",
      "name": "python",
      "nbconvert_exporter": "python",
      "pygments_lexer": "ipython3",
      "version": "3.11.0"
    },
    "colab": {
      "provenance": []
    }
  },
  "nbformat": 4,
  "nbformat_minor": 5
}